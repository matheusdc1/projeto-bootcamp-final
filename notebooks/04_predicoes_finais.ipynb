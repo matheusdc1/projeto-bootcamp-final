{
 "cells": [
  {
   "cell_type": "markdown",
   "id": "6c491415",
   "metadata": {},
   "source": [
    "🎯 Notebook 4 - Predições Finais no Dataset de Teste"
   ]
  },
  {
   "cell_type": "code",
   "execution_count": 1,
   "id": "cfbbec7e",
   "metadata": {},
   "outputs": [
    {
     "name": "stdout",
     "output_type": "stream",
     "text": [
      "PREDIÇÕES FINAIS - BOOTCAMP_TEST.CSV\n",
      "==================================================\n",
      "\n",
      "1. Carregando modelo e configurações\n",
      "----------------------------------------\n",
      "Modelo carregado: XGBoost\n",
      "F1-Score de treino: 0.222\n",
      "Total de features: 13\n",
      "Thresholds otimizados: ['0.10', '0.55', '0.30', '0.60', '0.50']\n"
     ]
    }
   ],
   "source": [
    "import pandas as pd\n",
    "import numpy as np\n",
    "import joblib\n",
    "import os\n",
    "from sklearn.preprocessing import StandardScaler\n",
    "\n",
    "print(\"PREDIÇÕES FINAIS - BOOTCAMP_TEST.CSV\")\n",
    "print(\"=\"*50)\n",
    "\n",
    "# ===== 1. CARREGAR MODELO TREINADO =====\n",
    "print(\"\\n1. Carregando modelo e configurações\")\n",
    "print(\"-\"*40)\n",
    "\n",
    "try:\n",
    "    # Carregar modelo final\n",
    "    modelo_data = joblib.load('../models/modelo_final_bootcamp.pkl')\n",
    "    \n",
    "    modelo_nome = modelo_data['modelo_tipo']\n",
    "    modelo = modelo_data['modelo']\n",
    "    scaler = modelo_data['scaler']\n",
    "    feature_names = modelo_data['feature_names']\n",
    "    failure_names = modelo_data['failure_names']\n",
    "    thresholds = modelo_data['thresholds_otimizados']\n",
    "    \n",
    "    print(f\"Modelo carregado: {modelo_nome}\")\n",
    "    print(f\"F1-Score de treino: {modelo_data['f1_score_final']:.3f}\")\n",
    "    print(f\"Total de features: {len(feature_names)}\")\n",
    "    print(f\"Thresholds otimizados: {[f'{t:.2f}' for t in thresholds]}\")\n",
    "    \n",
    "except FileNotFoundError:\n",
    "    print(\"Modelo não encontrado. Execute primeiro os notebooks de treino.\")\n",
    "    exit()"
   ]
  },
  {
   "cell_type": "code",
   "execution_count": 2,
   "id": "e57496b3",
   "metadata": {},
   "outputs": [
    {
     "name": "stdout",
     "output_type": "stream",
     "text": [
      "\n",
      "2. Carregando dados de teste\n",
      "-----------------------------------\n",
      "Dados carregados: (7173, 9)\n",
      "Colunas encontradas:\n",
      "   1. id\n",
      "   2. id_produto\n",
      "   3. tipo\n",
      "   4. temperatura_ar\n",
      "   5. temperatura_processo\n",
      "   6. umidade_relativa\n",
      "   7. velocidade_rotacional\n",
      "   8. torque\n",
      "   9. desgaste_da_ferramenta\n",
      "Arquivo de teste sem rótulos, conforme esperado.\n"
     ]
    }
   ],
   "source": [
    "# ===== 2. CARREGAR DADOS DE TESTE =====\n",
    "print(\"\\n2. Carregando dados de teste\")\n",
    "print(\"-\"*35)\n",
    "\n",
    "try:\n",
    "    df_test = pd.read_csv('../data/raw/bootcamp_test.csv')\n",
    "    print(f\"Dados carregados: {df_test.shape}\")\n",
    "    \n",
    "    # Estrutura das colunas\n",
    "    print(\"Colunas encontradas:\")\n",
    "    for i, col in enumerate(df_test.columns, 1):\n",
    "        print(f\"  {i:2d}. {col}\")\n",
    "    \n",
    "    # Verificar rótulos\n",
    "    has_failure_cols = any('Falha' in col for col in df_test.columns)\n",
    "    if has_failure_cols:\n",
    "        print(\"Atenção: arquivo de teste contém rótulos (não esperado).\")\n",
    "    else:\n",
    "        print(\"Arquivo de teste sem rótulos, conforme esperado.\")\n",
    "        \n",
    "except FileNotFoundError:\n",
    "    print(\"Arquivo bootcamp_test.csv não encontrado em ../data/raw/\")\n",
    "    exit()"
   ]
  },
  {
   "cell_type": "code",
   "execution_count": 3,
   "id": "440cd592",
   "metadata": {},
   "outputs": [
    {
     "name": "stdout",
     "output_type": "stream",
     "text": [
      "\n",
      "3. Aplicando preprocessing do treino\n",
      "------------------------------------------------\n",
      "Features engineering criadas: stress_termico, potencia_mecanica, taxa_desgaste, stress_mecanico\n",
      "Preprocessing concluído: (7173, 13)\n"
     ]
    },
    {
     "name": "stderr",
     "output_type": "stream",
     "text": [
      "C:\\Users\\mdc\\AppData\\Local\\Temp\\ipykernel_31248\\2124250244.py:14: FutureWarning: A value is trying to be set on a copy of a DataFrame or Series through chained assignment using an inplace method.\n",
      "The behavior will change in pandas 3.0. This inplace method will never work because the intermediate object on which we are setting values always behaves as a copy.\n",
      "\n",
      "For example, when doing 'df[col].method(value, inplace=True)', try using 'df.method({col: value}, inplace=True)' or df[col] = df[col].method(value) instead, to perform the operation inplace on the original object.\n",
      "\n",
      "\n",
      "  df_copy['desgaste_da_ferramenta'].fillna(df_copy['desgaste_da_ferramenta'].median(), inplace=True)\n"
     ]
    }
   ],
   "source": [
    "# ===== 3. PREPROCESSAMENTO =====\n",
    "print(\"\\n3. Aplicando preprocessing do treino\")\n",
    "print(\"-\"*48)\n",
    "\n",
    "def criar_features_engineered(df):\n",
    "    \"\"\"Cria as mesmas features engineering usadas no treino.\"\"\"\n",
    "    df_copy = df.copy()\n",
    "    \n",
    "    # Preencher missing values\n",
    "    if 'desgaste_da_ferramenta' in df_copy.columns:\n",
    "        df_copy['desgaste_da_ferramenta'] = df_copy.groupby('tipo')['desgaste_da_ferramenta'].transform(\n",
    "            lambda x: x.fillna(x.median())\n",
    "        )\n",
    "        df_copy['desgaste_da_ferramenta'].fillna(df_copy['desgaste_da_ferramenta'].median(), inplace=True)\n",
    "    \n",
    "    # Features engineering\n",
    "    df_copy['stress_termico'] = df_copy['temperatura_processo'] - df_copy['temperatura_ar']\n",
    "    df_copy['potencia_mecanica'] = df_copy['torque'] * df_copy['velocidade_rotacional'] / 1000\n",
    "    df_copy['taxa_desgaste'] = df_copy['desgaste_da_ferramenta'] / (df_copy['velocidade_rotacional'] + 1)\n",
    "    df_copy['stress_mecanico'] = (df_copy['torque'] * df_copy['desgaste_da_ferramenta']) / (df_copy['velocidade_rotacional'] + 1)\n",
    "    \n",
    "    print(\"Features engineering criadas: stress_termico, potencia_mecanica, taxa_desgaste, stress_mecanico\")\n",
    "    return df_copy\n",
    "\n",
    "df_test_processed = criar_features_engineered(df_test)\n",
    "\n",
    "# One-hot encoding\n",
    "df_test_encoded = pd.get_dummies(df_test_processed, columns=['tipo'], prefix='tipo')\n",
    "\n",
    "# Ajustar colunas faltantes\n",
    "for col in feature_names:\n",
    "    if col not in df_test_encoded.columns:\n",
    "        df_test_encoded[col] = 0\n",
    "\n",
    "# Selecionar features\n",
    "X_test = df_test_encoded[feature_names]\n",
    "\n",
    "# Normalização\n",
    "X_test_scaled = pd.DataFrame(scaler.transform(X_test), columns=X_test.columns)\n",
    "print(f\"Preprocessing concluído: {X_test_scaled.shape}\")"
   ]
  },
  {
   "cell_type": "code",
   "execution_count": 4,
   "id": "de52b02c",
   "metadata": {},
   "outputs": [
    {
     "name": "stdout",
     "output_type": "stream",
     "text": [
      "\n",
      "4. Fazendo predições com o modelo final\n",
      "------------------------------------------\n",
      "FDF: 53 falhas preditas (threshold 0.10)\n",
      "FDC: 146 falhas preditas (threshold 0.55)\n",
      "FP: 43 falhas preditas (threshold 0.30)\n",
      "FTE: 40 falhas preditas (threshold 0.60)\n",
      "FA: 6 falhas preditas (threshold 0.50)\n",
      "\n",
      "Estatísticas gerais:\n",
      "  Total de amostras: 7173\n",
      "  Total de falhas preditas: 288\n",
      "  Amostras com ≥1 falha: 267\n"
     ]
    }
   ],
   "source": [
    "# ===== 4. FAZER PREDIÇÕES =====\n",
    "print(\"\\n4. Fazendo predições com o modelo final\")\n",
    "print(\"-\"*42)\n",
    "\n",
    "if modelo_nome == \"Random Forest\":\n",
    "    pred_proba_raw = modelo.predict_proba(X_test_scaled)\n",
    "    pred_proba = np.zeros((len(X_test_scaled), len(failure_names)))\n",
    "    for i in range(len(failure_names)):\n",
    "        pred_proba[:, i] = pred_proba_raw[i][:, 1]\n",
    "else:\n",
    "    pred_proba_list = [modelo[name].predict_proba(X_test_scaled)[:, 1] for name in failure_names]\n",
    "    pred_proba = np.array(pred_proba_list).T\n",
    "\n",
    "# Aplicar thresholds\n",
    "pred_binarias = np.zeros_like(pred_proba, dtype=int)\n",
    "for i, threshold in enumerate(thresholds):\n",
    "    pred_binarias[:, i] = (pred_proba[:, i] >= threshold).astype(int)\n",
    "    print(f\"{failure_names[i]}: {pred_binarias[:, i].sum()} falhas preditas (threshold {threshold:.2f})\")\n",
    "\n",
    "# Estatísticas gerais\n",
    "total_amostras = len(X_test_scaled)\n",
    "total_falhas_preditas = pred_binarias.sum()\n",
    "amostras_com_falha = (pred_binarias.sum(axis=1) > 0).sum()\n",
    "\n",
    "print(f\"\\nEstatísticas gerais:\")\n",
    "print(f\"  Total de amostras: {total_amostras}\")\n",
    "print(f\"  Total de falhas preditas: {total_falhas_preditas}\")\n",
    "print(f\"  Amostras com ≥1 falha: {amostras_com_falha}\")"
   ]
  },
  {
   "cell_type": "code",
   "execution_count": 5,
   "id": "8bb35c5f",
   "metadata": {},
   "outputs": [
    {
     "name": "stdout",
     "output_type": "stream",
     "text": [
      "\n",
      "5. Detalhamento por tipo de falha\n",
      "----------------------------------------\n",
      "Tipo   | Pred |   Taxa | Prob.Média\n",
      "----------------------------------------\n",
      "FDF    |   53 |   0.7% |      0.004\n",
      "FDC    |  146 |   2.0% |      0.079\n",
      "FP     |   43 |   0.6% |      0.006\n",
      "FTE    |   40 |   0.6% |      0.007\n",
      "FA     |    6 |   0.1% |      0.005\n"
     ]
    }
   ],
   "source": [
    "# ===== 5. DETALHAMENTO POR TIPO =====\n",
    "print(\"\\n5. Detalhamento por tipo de falha\")\n",
    "print(\"-\"*40)\n",
    "print(f\"{'Tipo':<6} | {'Pred':>4} | {'Taxa':>6} | {'Prob.Média':>10}\")\n",
    "print(\"-\"*40)\n",
    "for i, name in enumerate(failure_names):\n",
    "    pred_count = pred_binarias[:, i].sum()\n",
    "    pred_rate = pred_count / total_amostras * 100\n",
    "    avg_proba = pred_proba[:, i].mean()\n",
    "    print(f\"{name:<6} | {pred_count:>4} | {pred_rate:>5.1f}% | {avg_proba:>10.3f}\")"
   ]
  },
  {
   "cell_type": "code",
   "execution_count": 6,
   "id": "4a82e5c5",
   "metadata": {},
   "outputs": [
    {
     "name": "stdout",
     "output_type": "stream",
     "text": [
      "\n",
      "6. Identificação de casos críticos\n",
      "         id id_produto tipo  risco_maximo\n",
      "4523  39783     L51071    L      0.999855\n",
      "6620  41880     L57008    L      0.999828\n",
      "6988  42248     M19720    M      0.999661\n",
      "2116  37376     L50600    L      0.999624\n",
      "6296  41556     L56849    L      0.999607\n",
      "6964  42224     M15876    M      0.999557\n",
      "2394  37654     L47625    L      0.999442\n",
      "916   36176     L47428    L      0.999367\n",
      "2509  37769     L54112    L      0.999222\n",
      "3020  38280     L56736    L      0.999014\n",
      "\n",
      "Distribuição de risco:\n",
      "  Alto (>0.7): 181\n",
      "  Médio (0.3-0.7): 293\n",
      "  Baixo (<0.3): 6699\n"
     ]
    }
   ],
   "source": [
    "# ===== 6. CASOS CRÍTICOS =====\n",
    "print(\"\\n6. Identificação de casos críticos\")\n",
    "df_test['risco_maximo'] = pred_proba.max(axis=1)\n",
    "casos_criticos = df_test.nlargest(10, 'risco_maximo')\n",
    "print(casos_criticos[['id', 'id_produto', 'tipo', 'risco_maximo']])\n",
    "\n",
    "# Distribuição de risco\n",
    "risco_max = df_test['risco_maximo']\n",
    "print(\"\\nDistribuição de risco:\")\n",
    "print(f\"  Alto (>0.7): {(risco_max > 0.7).sum()}\")\n",
    "print(f\"  Médio (0.3-0.7): {((risco_max >= 0.3) & (risco_max <= 0.7)).sum()}\")\n",
    "print(f\"  Baixo (<0.3): {(risco_max < 0.3).sum()}\")\n"
   ]
  },
  {
   "cell_type": "code",
   "execution_count": 7,
   "id": "51296bc8",
   "metadata": {},
   "outputs": [
    {
     "name": "stdout",
     "output_type": "stream",
     "text": [
      "\n",
      "7. Salvando resultados\n",
      "Resultados salvos com sucesso.\n"
     ]
    }
   ],
   "source": [
    "# ===== 7. SALVAR RESULTADOS =====\n",
    "print(\"\\n7. Salvando resultados\")\n",
    "os.makedirs('../results', exist_ok=True)\n",
    "\n",
    "resultados = df_test[['id', 'id_produto', 'tipo']].copy()\n",
    "for i, name in enumerate(failure_names):\n",
    "    resultados[f'pred_{name}'] = pred_binarias[:, i]\n",
    "    resultados[f'proba_{name}'] = pred_proba[:, i].round(4)\n",
    "resultados['risco_maximo'] = risco_max.round(4)\n",
    "resultados['tem_falha_predita'] = (pred_binarias.sum(axis=1) > 0).astype(int)\n",
    "\n",
    "resultados.to_csv('../results/predicoes_bootcamp_test.csv', index=False)\n",
    "resultados[resultados['risco_maximo'] > 0.3].to_csv('../results/casos_criticos.csv', index=False)\n",
    "sumario_api = pd.DataFrame({'id': df_test['id']})\n",
    "for i, name in enumerate(failure_names):\n",
    "    sumario_api[name] = pred_binarias[:, i]\n",
    "sumario_api.to_csv('../results/predicoes_para_api.csv', index=False)\n",
    "\n",
    "print(\"Resultados salvos com sucesso.\")"
   ]
  },
  {
   "cell_type": "code",
   "execution_count": 8,
   "id": "28da595b",
   "metadata": {},
   "outputs": [
    {
     "name": "stdout",
     "output_type": "stream",
     "text": [
      "\n",
      "8. Preview dos resultados\n",
      "      id id_produto tipo  pred_FDF  pred_FDC  pred_FP  pred_FTE  pred_FA  \\\n",
      "0  35260     L53432    L         0         0        0         0        0   \n",
      "1  35261     M19544    M         0         0        0         0        0   \n",
      "2  35262     M16591    M         0         0        0         0        0   \n",
      "3  35263     L51922    L         0         0        0         0        0   \n",
      "4  35264     L51701    L         0         0        0         0        0   \n",
      "\n",
      "   risco_maximo  \n",
      "0        0.0203  \n",
      "1        0.0471  \n",
      "2        0.0357  \n",
      "3        0.1270  \n",
      "4        0.0223  \n"
     ]
    }
   ],
   "source": [
    "# ===== 8. PREVIEW =====\n",
    "print(\"\\n8. Preview dos resultados\")\n",
    "colunas_mostrar = ['id', 'id_produto', 'tipo'] + [f'pred_{name}' for name in failure_names] + ['risco_maximo']\n",
    "print(resultados[colunas_mostrar].head())"
   ]
  },
  {
   "cell_type": "code",
   "execution_count": 9,
   "id": "ec3ad207",
   "metadata": {},
   "outputs": [
    {
     "name": "stdout",
     "output_type": "stream",
     "text": [
      "\n",
      "Resumo final\n",
      "\n",
      "DADOS PROCESSADOS:\n",
      "  Amostras: 7173\n",
      "  Modelo usado: XGBoost\n",
      "  Features: 13\n",
      "\n",
      "PREDIÇÕES:\n",
      "  Total de falhas preditas: 288\n",
      "  Casos críticos (risco >30%): 473\n",
      "\n",
      "ARQUIVOS GERADOS:\n",
      "  predicoes_bootcamp_test.csv\n",
      "  casos_criticos.csv\n",
      "  predicoes_para_api.csv\n",
      "\n",
      "PRÓXIMOS PASSOS:\n",
      "  - Enviar predicoes_para_api.csv para API\n",
      "  - Investigar casos críticos\n",
      "  - Comparar performance final com outros alunos\n",
      "\n",
      "Predições concluídas com sucesso.\n"
     ]
    }
   ],
   "source": [
    "# ===== 9. RESUMO FINAL =====\n",
    "print(\"\\nResumo final\")\n",
    "resumo_final = f\"\"\"\n",
    "DADOS PROCESSADOS:\n",
    "  Amostras: {total_amostras}\n",
    "  Modelo usado: {modelo_nome}\n",
    "  Features: {len(feature_names)}\n",
    "\n",
    "PREDIÇÕES:\n",
    "  Total de falhas preditas: {total_falhas_preditas}\n",
    "  Casos críticos (risco >30%): {len(resultados[resultados['risco_maximo'] > 0.3])}\n",
    "\n",
    "ARQUIVOS GERADOS:\n",
    "  predicoes_bootcamp_test.csv\n",
    "  casos_criticos.csv\n",
    "  predicoes_para_api.csv\n",
    "\n",
    "PRÓXIMOS PASSOS:\n",
    "  - Enviar predicoes_para_api.csv para API\n",
    "  - Investigar casos críticos\n",
    "  - Comparar performance final com outros alunos\n",
    "\"\"\"\n",
    "print(resumo_final)\n",
    "print(\"Predições concluídas com sucesso.\")"
   ]
  },
  {
   "cell_type": "code",
   "execution_count": null,
   "id": "3bcb54cd",
   "metadata": {},
   "outputs": [],
   "source": []
  }
 ],
 "metadata": {
  "kernelspec": {
   "display_name": "Python 3",
   "language": "python",
   "name": "python3"
  },
  "language_info": {
   "codemirror_mode": {
    "name": "ipython",
    "version": 3
   },
   "file_extension": ".py",
   "mimetype": "text/x-python",
   "name": "python",
   "nbconvert_exporter": "python",
   "pygments_lexer": "ipython3",
   "version": "3.11.9"
  }
 },
 "nbformat": 4,
 "nbformat_minor": 5
}
